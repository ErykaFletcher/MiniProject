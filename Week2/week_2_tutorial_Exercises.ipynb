{
 "cells": [
  {
   "cell_type": "code",
   "execution_count": 3,
   "id": "fe2258d3",
   "metadata": {},
   "outputs": [],
   "source": [
    "import numpy as np"
   ]
  },
  {
   "cell_type": "code",
   "execution_count": 27,
   "id": "bbdee68c",
   "metadata": {},
   "outputs": [
    {
     "name": "stdout",
     "output_type": "stream",
     "text": [
      "Requirement already satisfied: matplotlib in d:\\anacondainstall\\lib\\site-packages (3.5.1)\n",
      "Requirement already satisfied: kiwisolver>=1.0.1 in d:\\anacondainstall\\lib\\site-packages (from matplotlib) (1.3.2)\n",
      "Requirement already satisfied: packaging>=20.0 in d:\\anacondainstall\\lib\\site-packages (from matplotlib) (21.3)\n",
      "Requirement already satisfied: numpy>=1.17 in d:\\anacondainstall\\lib\\site-packages (from matplotlib) (1.21.5)\n",
      "Requirement already satisfied: pillow>=6.2.0 in d:\\anacondainstall\\lib\\site-packages (from matplotlib) (9.0.1)\n",
      "Requirement already satisfied: python-dateutil>=2.7 in d:\\anacondainstall\\lib\\site-packages (from matplotlib) (2.8.2)\n",
      "Requirement already satisfied: cycler>=0.10 in d:\\anacondainstall\\lib\\site-packages (from matplotlib) (0.11.0)\n",
      "Requirement already satisfied: pyparsing>=2.2.1 in d:\\anacondainstall\\lib\\site-packages (from matplotlib) (3.0.4)\n",
      "Requirement already satisfied: fonttools>=4.22.0 in d:\\anacondainstall\\lib\\site-packages (from matplotlib) (4.25.0)\n",
      "Requirement already satisfied: six>=1.5 in d:\\anacondainstall\\lib\\site-packages (from python-dateutil>=2.7->matplotlib) (1.16.0)\n"
     ]
    }
   ],
   "source": [
    "!pip install matplotlib"
   ]
  },
  {
   "cell_type": "code",
   "execution_count": 28,
   "id": "419c0bf7",
   "metadata": {},
   "outputs": [],
   "source": [
    "import matplotlib.pyplot as plt"
   ]
  },
  {
   "cell_type": "markdown",
   "id": "52e58ae2",
   "metadata": {},
   "source": [
    "# Exercises"
   ]
  },
  {
   "cell_type": "markdown",
   "id": "03af30de",
   "metadata": {},
   "source": [
    "### Question 1\n",
    "Try to write a simple custom function to determine whether a given integer is odd or even number."
   ]
  },
  {
   "cell_type": "code",
   "execution_count": 4,
   "id": "5c10cbeb",
   "metadata": {},
   "outputs": [],
   "source": [
    "def oddEven(x):\n",
    "    if isinstance(x, int):\n",
    "        if x%2==0:\n",
    "            if x==0:\n",
    "                statement=\" is neither odd or even number.\"\n",
    "            else:\n",
    "                statement=\" is even number.\"\n",
    "        else:\n",
    "            statement=\" is odd number.\"\n",
    "    else:\n",
    "        statement=\" is not an integer!\"\n",
    "        \n",
    "    return print(f\"{x}\"+statement)"
   ]
  },
  {
   "cell_type": "code",
   "execution_count": 2,
   "id": "73c10c89",
   "metadata": {
    "scrolled": false
   },
   "outputs": [
    {
     "name": "stdout",
     "output_type": "stream",
     "text": [
      "5 is odd number.\n"
     ]
    }
   ],
   "source": [
    "oddEven(5)"
   ]
  },
  {
   "cell_type": "code",
   "execution_count": 3,
   "id": "9a3972a6",
   "metadata": {
    "scrolled": true
   },
   "outputs": [
    {
     "name": "stdout",
     "output_type": "stream",
     "text": [
      "0.7 is not an integer!\n"
     ]
    }
   ],
   "source": [
    "oddEven(0.7)"
   ]
  },
  {
   "cell_type": "code",
   "execution_count": 4,
   "id": "53b8300e",
   "metadata": {
    "scrolled": true
   },
   "outputs": [
    {
     "name": "stdout",
     "output_type": "stream",
     "text": [
      "0 is neither odd or even number.\n"
     ]
    }
   ],
   "source": [
    "oddEven(0)"
   ]
  },
  {
   "cell_type": "markdown",
   "id": "8b780959",
   "metadata": {},
   "source": [
    "### Question 2\n",
    "Write a simple example code to show that Numpy is more efficient in numerical computation of large arrays of data than equivalent Python list."
   ]
  },
  {
   "cell_type": "code",
   "execution_count": 9,
   "id": "2e13ea58",
   "metadata": {},
   "outputs": [],
   "source": [
    "large_n=1e5 #100,000\n",
    "\n",
    "numpy_arr=np.arange(large_n)\n",
    "list_arr=list(range(int(large_n)))"
   ]
  },
  {
   "cell_type": "code",
   "execution_count": 10,
   "id": "3171f6dc",
   "metadata": {},
   "outputs": [
    {
     "name": "stdout",
     "output_type": "stream",
     "text": [
      "99999.0\n",
      "99999\n"
     ]
    }
   ],
   "source": [
    "print(numpy_arr[-1])\n",
    "print(list_arr[-1])"
   ]
  },
  {
   "cell_type": "code",
   "execution_count": 11,
   "id": "95f4ee82",
   "metadata": {},
   "outputs": [
    {
     "name": "stdout",
     "output_type": "stream",
     "text": [
      "34.5 µs ± 1.75 µs per loop (mean ± std. dev. of 7 runs, 10,000 loops each)\n"
     ]
    }
   ],
   "source": [
    "%timeit res=numpy_arr*2"
   ]
  },
  {
   "cell_type": "code",
   "execution_count": 12,
   "id": "703132d3",
   "metadata": {},
   "outputs": [
    {
     "name": "stdout",
     "output_type": "stream",
     "text": [
      "5.04 ms ± 92.1 µs per loop (mean ± std. dev. of 7 runs, 100 loops each)\n"
     ]
    }
   ],
   "source": [
    "%timeit res=[2*i for i in list_arr]"
   ]
  },
  {
   "cell_type": "markdown",
   "id": "58510f86",
   "metadata": {},
   "source": [
    "### Question 3\n",
    "Run the following codes:"
   ]
  },
  {
   "cell_type": "markdown",
   "id": "b576f2a5",
   "metadata": {},
   "source": [
    "What do you notice? Propose a way to reassign arr_slice with new value without modifying my_arr."
   ]
  },
  {
   "cell_type": "code",
   "execution_count": 26,
   "id": "4e112cfb",
   "metadata": {},
   "outputs": [
    {
     "name": "stdout",
     "output_type": "stream",
     "text": [
      "[0 1 2 3 4 5 6 7 8 9]\n",
      "[ 0  1  2  3 25 25 25  7  8  9]\n",
      "[-1 25 25]\n",
      "[ 0  1  2  3 25 25 25  7  8  9]\n"
     ]
    }
   ],
   "source": [
    "my_arr = np.arange(10)\n",
    "print(my_arr)\n",
    "my_arr[4:7] = 25\n",
    "print(my_arr)\n",
    "#arr_slice = my_arr[4:7]\n",
    "\n",
    "#create a copy of my_arr\n",
    "arr_slice = my_arr[4:7].copy()\n",
    "\n",
    "# Change the first element of arr_slice to -1\n",
    "arr_slice[0]= -1\n",
    "\n",
    "print(arr_slice)\n",
    "print(my_arr)"
   ]
  },
  {
   "attachments": {},
   "cell_type": "markdown",
   "id": "16ca545c",
   "metadata": {},
   "source": [
    "### Question 4\n",
    "Create an image as shown as the following with the help of Numpy and matplotlib modules. You can arbitrarily set the dimension of the image and white circular spot at the middle. "
   ]
  },
  {
   "cell_type": "code",
   "execution_count": 39,
   "id": "8801fb35",
   "metadata": {},
   "outputs": [
    {
     "data": {
      "image/png": "[encoded data removed]",
      "text/plain": [
       "<Figure size 432x288 with 1 Axes>"
      ]
     },
     "metadata": {},
     "output_type": "display_data"
    }
   ],
   "source": [
    "#create black image\n",
    "black_img=np.zeros((200,200), dtype=np.uint8)\n",
    "\n",
    "#set radius and center of circle\n",
    "radius=50\n",
    "\n",
    "#create coordinates grid & calculate coordinates\n",
    "x,y=np.ogrid[:200, :200]\n",
    "white_spot=(x-center)**2 + (y-center)**2 <= radius**2\n",
    "\n",
    "#set color of circle\n",
    "black_img[white_spot]=255\n",
    "\n",
    "#display\n",
    "plt.imshow(black_img, cmap=plt.cm.gray)\n",
    "plt.xticks([]), plt.yticks([])\n",
    "plt.show()"
   ]
  }
 ],
 "metadata": {
  "kernelspec": {
   "display_name": "Python 3 (ipykernel)",
   "language": "python",
   "name": "python3"
  },
  "language_info": {
   "codemirror_mode": {
    "name": "ipython",
    "version": 3
   },
   "file_extension": ".py",
   "mimetype": "text/x-python",
   "name": "python",
   "nbconvert_exporter": "python",
   "pygments_lexer": "ipython3",
   "version": "3.9.12"
  }
 },
 "nbformat": 4,
 "nbformat_minor": 5
}
